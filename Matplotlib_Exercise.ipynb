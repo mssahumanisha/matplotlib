{
  "nbformat": 4,
  "nbformat_minor": 0,
  "metadata": {
    "kernelspec": {
      "display_name": "Python 3",
      "language": "python",
      "name": "python3"
    },
    "language_info": {
      "codemirror_mode": {
        "name": "ipython",
        "version": 3
      },
      "file_extension": ".py",
      "mimetype": "text/x-python",
      "name": "python",
      "nbconvert_exporter": "python",
      "pygments_lexer": "ipython3",
      "version": "3.7.6"
    },
    "colab": {
      "name": "Matplotlib Exercise.ipynb",
      "provenance": [],
      "include_colab_link": true
    }
  },
  "cells": [
    {
      "cell_type": "markdown",
      "metadata": {
        "id": "view-in-github",
        "colab_type": "text"
      },
      "source": [
        "<a href=\"https://colab.research.google.com/github/mssahumanisha/matplotlib/blob/main/Matplotlib_Exercise.ipynb\" target=\"_parent\"><img src=\"https://colab.research.google.com/assets/colab-badge.svg\" alt=\"Open In Colab\"/></a>"
      ]
    },
    {
      "cell_type": "markdown",
      "metadata": {
        "id": "wYGfTJsOD_BB"
      },
      "source": [
        "# Exercise\r\n",
        "Colab Link: [**Link**](https://colab.research.google.com/drive/1mSOmPtIqPylnd5sZoWXD8Jn-iscT346E?usp=sharing)"
      ]
    },
    {
      "cell_type": "markdown",
      "metadata": {
        "id": "7VrFuQptD_BL"
      },
      "source": [
        "## Data"
      ]
    },
    {
      "cell_type": "code",
      "metadata": {
        "id": "J6ZRYpM1D_BN"
      },
      "source": [
        "import numpy as np\n",
        "x = np.arange(0,100)\n",
        "y = x*2\n",
        "z = x**2"
      ],
      "execution_count": 1,
      "outputs": []
    },
    {
      "cell_type": "code",
      "metadata": {
        "id": "XR_tGsVLD_BN",
        "colab": {
          "base_uri": "https://localhost:8080/"
        },
        "outputId": "8b5074d2-6fea-4918-9fc0-8525e660b5fd"
      },
      "source": [
        "x"
      ],
      "execution_count": 2,
      "outputs": [
        {
          "output_type": "execute_result",
          "data": {
            "text/plain": [
              "array([ 0,  1,  2,  3,  4,  5,  6,  7,  8,  9, 10, 11, 12, 13, 14, 15, 16,\n",
              "       17, 18, 19, 20, 21, 22, 23, 24, 25, 26, 27, 28, 29, 30, 31, 32, 33,\n",
              "       34, 35, 36, 37, 38, 39, 40, 41, 42, 43, 44, 45, 46, 47, 48, 49, 50,\n",
              "       51, 52, 53, 54, 55, 56, 57, 58, 59, 60, 61, 62, 63, 64, 65, 66, 67,\n",
              "       68, 69, 70, 71, 72, 73, 74, 75, 76, 77, 78, 79, 80, 81, 82, 83, 84,\n",
              "       85, 86, 87, 88, 89, 90, 91, 92, 93, 94, 95, 96, 97, 98, 99])"
            ]
          },
          "metadata": {
            "tags": []
          },
          "execution_count": 2
        }
      ]
    },
    {
      "cell_type": "code",
      "metadata": {
        "id": "T92m7JE8D_BP",
        "colab": {
          "base_uri": "https://localhost:8080/"
        },
        "outputId": "5192a26a-4afe-4ba1-8138-1cc9cb6cd287"
      },
      "source": [
        "y"
      ],
      "execution_count": 3,
      "outputs": [
        {
          "output_type": "execute_result",
          "data": {
            "text/plain": [
              "array([  0,   2,   4,   6,   8,  10,  12,  14,  16,  18,  20,  22,  24,\n",
              "        26,  28,  30,  32,  34,  36,  38,  40,  42,  44,  46,  48,  50,\n",
              "        52,  54,  56,  58,  60,  62,  64,  66,  68,  70,  72,  74,  76,\n",
              "        78,  80,  82,  84,  86,  88,  90,  92,  94,  96,  98, 100, 102,\n",
              "       104, 106, 108, 110, 112, 114, 116, 118, 120, 122, 124, 126, 128,\n",
              "       130, 132, 134, 136, 138, 140, 142, 144, 146, 148, 150, 152, 154,\n",
              "       156, 158, 160, 162, 164, 166, 168, 170, 172, 174, 176, 178, 180,\n",
              "       182, 184, 186, 188, 190, 192, 194, 196, 198])"
            ]
          },
          "metadata": {
            "tags": []
          },
          "execution_count": 3
        }
      ]
    },
    {
      "cell_type": "code",
      "metadata": {
        "id": "E86GUm1VD_BQ",
        "colab": {
          "base_uri": "https://localhost:8080/"
        },
        "outputId": "e07e0196-9797-4f64-ecd8-2fa8e4d91306"
      },
      "source": [
        "z"
      ],
      "execution_count": 4,
      "outputs": [
        {
          "output_type": "execute_result",
          "data": {
            "text/plain": [
              "array([   0,    1,    4,    9,   16,   25,   36,   49,   64,   81,  100,\n",
              "        121,  144,  169,  196,  225,  256,  289,  324,  361,  400,  441,\n",
              "        484,  529,  576,  625,  676,  729,  784,  841,  900,  961, 1024,\n",
              "       1089, 1156, 1225, 1296, 1369, 1444, 1521, 1600, 1681, 1764, 1849,\n",
              "       1936, 2025, 2116, 2209, 2304, 2401, 2500, 2601, 2704, 2809, 2916,\n",
              "       3025, 3136, 3249, 3364, 3481, 3600, 3721, 3844, 3969, 4096, 4225,\n",
              "       4356, 4489, 4624, 4761, 4900, 5041, 5184, 5329, 5476, 5625, 5776,\n",
              "       5929, 6084, 6241, 6400, 6561, 6724, 6889, 7056, 7225, 7396, 7569,\n",
              "       7744, 7921, 8100, 8281, 8464, 8649, 8836, 9025, 9216, 9409, 9604,\n",
              "       9801])"
            ]
          },
          "metadata": {
            "tags": []
          },
          "execution_count": 4
        }
      ]
    },
    {
      "cell_type": "code",
      "metadata": {
        "id": "CU1uTYBED_BQ"
      },
      "source": [
        "import matplotlib.pyplot as plt\n",
        "%matplotlib inline"
      ],
      "execution_count": 5,
      "outputs": []
    },
    {
      "cell_type": "markdown",
      "metadata": {
        "id": "Hwec5ZBiD_BQ"
      },
      "source": [
        "## Exercise 1\n",
        "* Create a figure object called fig using plt.figure()\n",
        "* Add an axis to the figure canvas at [0, 0, 1, 1].\n",
        "* Plot (x,y) on that axes and set labels and titles"
      ]
    },
    {
      "cell_type": "code",
      "metadata": {
        "id": "QSFB9f4-D_BR",
        "colab": {
          "base_uri": "https://localhost:8080/",
          "height": 366
        },
        "outputId": "3b0abdd1-709b-4767-c997-bb55a543e203"
      },
      "source": [
        "fig=plt.figure()\r\n",
        "ax1 = fig.add_axes([0.0, 0.0, 1.0, 1.0])\r\n",
        "ax1.plot(x, y)\r\n",
        "ax1.set_xlabel('X Axis')\r\n",
        "ax1.set_ylabel('Y Axis')\r\n",
        "ax1.set_title('EX 1')\r\n",
        "plt.show()"
      ],
      "execution_count": 23,
      "outputs": [
        {
          "output_type": "display_data",
          "data": {
            "image/png": "[encoded data removed]",
            "text/plain": [
              "<Figure size 432x288 with 1 Axes>"
            ]
          },
          "metadata": {
            "tags": [],
            "needs_background": "light"
          }
        }
      ]
    },
    {
      "cell_type": "markdown",
      "metadata": {
        "id": "JvK1lKP_D_BR"
      },
      "source": [
        "## Exercise 2\n",
        "Create a figure object and put two axes on it, ax1 and ax2.\n",
        "\n",
        "Located at\n",
        "\n",
        "ax1:\n",
        "* 0% from left and bottom\n",
        "* 100% width and height.\n",
        "\n",
        "ax2:\n",
        "* 20% from left, 50% from bottom\n",
        "* 20% width and height"
      ]
    },
    {
      "cell_type": "code",
      "metadata": {
        "id": "er2VL9eAD_BS",
        "colab": {
          "base_uri": "https://localhost:8080/",
          "height": 340
        },
        "outputId": "40dfdfde-c407-47c7-b8bf-7ae44e04632a"
      },
      "source": [
        "fig=plt.figure()\r\n",
        "ax1 = fig.add_axes([0.0, 0.0, 1.0, 1.0])\r\n",
        "ax2 = fig.add_axes([0.2, 0.5, 0.2, 0.2])"
      ],
      "execution_count": 24,
      "outputs": [
        {
          "output_type": "display_data",
          "data": {
            "image/png": "[encoded data removed]",
            "text/plain": [
              "<Figure size 432x288 with 2 Axes>"
            ]
          },
          "metadata": {
            "tags": [],
            "needs_background": "light"
          }
        }
      ]
    },
    {
      "cell_type": "markdown",
      "metadata": {
        "id": "URYmQZ4xD_BS"
      },
      "source": [
        "**Now plot (x,y) on both axes. And call your figure object to show it.**"
      ]
    },
    {
      "cell_type": "code",
      "metadata": {
        "id": "l5qGemufD_BS",
        "colab": {
          "base_uri": "https://localhost:8080/",
          "height": 336
        },
        "outputId": "99bb87a3-f41f-428a-a361-78a86fd45632"
      },
      "source": [
        "ax1.plot(x,y)\r\n",
        "ax2.plot(x,y)\r\n",
        "fig"
      ],
      "execution_count": 25,
      "outputs": [
        {
          "output_type": "execute_result",
          "data": {
            "image/png": "[encoded data removed]",
            "text/plain": [
              "<Figure size 432x288 with 2 Axes>"
            ]
          },
          "metadata": {
            "tags": []
          },
          "execution_count": 25
        }
      ]
    },
    {
      "cell_type": "markdown",
      "metadata": {
        "id": "7Of7IKsiD_BT"
      },
      "source": [
        "## Exercise 3\n",
        "\n",
        "**Create the plot below by adding two axes to a figure object at [0,0,1,1] and [0.2,0.5,.4,.4]**"
      ]
    },
    {
      "cell_type": "code",
      "metadata": {
        "id": "CyZZ1u9PD_BT",
        "colab": {
          "base_uri": "https://localhost:8080/",
          "height": 340
        },
        "outputId": "2e46edfd-1095-4469-c3bc-b2da4875df52"
      },
      "source": [
        "fig=plt.figure()\r\n",
        "ax1 = fig.add_axes([0.0, 0.0, 1.0, 1.0])\r\n",
        "ax2 = fig.add_axes([0.2, 0.5, 0.4, 0.4])"
      ],
      "execution_count": 35,
      "outputs": [
        {
          "output_type": "display_data",
          "data": {
            "image/png": "[encoded data removed]",
            "text/plain": [
              "<Figure size 432x288 with 2 Axes>"
            ]
          },
          "metadata": {
            "tags": [],
            "needs_background": "light"
          }
        }
      ]
    },
    {
      "cell_type": "markdown",
      "metadata": {
        "id": "wCqhXZ5OD_BT"
      },
      "source": [
        "**Now use x,y, and z arrays to recreate the plot below. Notice the xlimits and y limits on the inserted plot:**"
      ]
    },
    {
      "cell_type": "code",
      "metadata": {
        "id": "ODFlE1juD_BV",
        "colab": {
          "base_uri": "https://localhost:8080/",
          "height": 336
        },
        "outputId": "7d6ab14a-e936-4c37-af8b-9bb9e92b1968"
      },
      "source": [
        "ax1.plot(x,z,'b')\r\n",
        "ax2.plot(x,y,'b')\r\n",
        "ax2.set_xlim([20,22])\r\n",
        "ax2.set_ylim([30,50])\r\n",
        "fig"
      ],
      "execution_count": 36,
      "outputs": [
        {
          "output_type": "execute_result",
          "data": {
            "image/png": "[encoded data removed]",
            "text/plain": [
              "<Figure size 432x288 with 2 Axes>"
            ]
          },
          "metadata": {
            "tags": []
          },
          "execution_count": 36
        }
      ]
    },
    {
      "cell_type": "code",
      "metadata": {
        "id": "a7kT7z-YD_BW"
      },
      "source": [
        ""
      ],
      "execution_count": 29,
      "outputs": []
    },
    {
      "cell_type": "markdown",
      "metadata": {
        "id": "pDuAfMEyD_BX"
      },
      "source": [
        "## Exercise 4\n",
        "\n",
        "**Use plt.subplots(nrows=1, ncols=2) to create a plot.**\n",
        "\n",
        "**Now plot (x,y) and (x,z) on the axes. Choose a suitable linewidth and style for the plots**\n",
        "\n",
        "**See if you can resize the plot by adding the figsize() argument in plt.subplots()**"
      ]
    },
    {
      "cell_type": "code",
      "metadata": {
        "id": "ayBQgKI6D_BX",
        "colab": {
          "base_uri": "https://localhost:8080/",
          "height": 282
        },
        "outputId": "e034799c-4689-402e-bf98-43db323165b3"
      },
      "source": [
        "fig,axes=plt.subplots( nrows=1,ncols=2,figsize=(8,4))\r\n",
        "axes[0].plot(x,y,lw=2,ls='-.')\r\n",
        "axes[1].plot(x,z,lw=4,ls='--')"
      ],
      "execution_count": 31,
      "outputs": [
        {
          "output_type": "execute_result",
          "data": {
            "text/plain": [
              "[<matplotlib.lines.Line2D at 0x7fa136e29240>]"
            ]
          },
          "metadata": {
            "tags": []
          },
          "execution_count": 31
        },
        {
          "output_type": "display_data",
          "data": {
            "image/png": "[encoded data removed]",
            "text/plain": [
              "<Figure size 576x288 with 2 Axes>"
            ]
          },
          "metadata": {
            "tags": [],
            "needs_background": "light"
          }
        }
      ]
    },
    {
      "cell_type": "markdown",
      "metadata": {
        "id": "W1-u9RdiD_BY"
      },
      "source": [
        "# Done!"
      ]
    },
    {
      "cell_type": "code",
      "metadata": {
        "id": "i14CxfHXD_BY"
      },
      "source": [
        ""
      ],
      "execution_count": null,
      "outputs": []
    }
  ]
}